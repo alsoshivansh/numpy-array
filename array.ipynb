{
 "cells": [
  {
   "cell_type": "markdown",
   "id": "078f7572",
   "metadata": {},
   "source": [
    "# Create a NumPy ndarray Object\n",
    "NumPy is used to work with arrays. The array object in NumPy is called ndarray.\n",
    "\n",
    "We can create a NumPy ndarray object by using the array() function."
   ]
  },
  {
   "cell_type": "code",
   "execution_count": 1,
   "id": "735ebdb7",
   "metadata": {},
   "outputs": [
    {
     "name": "stdout",
     "output_type": "stream",
     "text": [
      "[1 2 3 4 5]\n",
      "<class 'numpy.ndarray'>\n"
     ]
    }
   ],
   "source": [
    "import numpy as np\n",
    "\n",
    "arr = np.array([1, 2, 3, 4, 5])\n",
    "\n",
    "print(arr)\n",
    "\n",
    "print(type(arr))"
   ]
  },
  {
   "cell_type": "markdown",
   "id": "9477dc55",
   "metadata": {},
   "source": [
    "To create an ndarray, \n",
    "\n",
    "we can pass a list, \n",
    "\n",
    "tuple or any array-like object into the array() method, \n",
    "\n",
    "and it will be converted into an ndarray:"
   ]
  },
  {
   "cell_type": "code",
   "execution_count": 2,
   "id": "44a5303f",
   "metadata": {},
   "outputs": [
    {
     "name": "stdout",
     "output_type": "stream",
     "text": [
      "[1 2 3 4 5]\n"
     ]
    }
   ],
   "source": [
    "#Use a tuple to create a NumPy array:\n",
    "\n",
    "import numpy as np\n",
    "\n",
    "arr = np.array((1, 2, 3, 4, 5))\n",
    "\n",
    "print(arr)"
   ]
  },
  {
   "cell_type": "markdown",
   "id": "accc814b",
   "metadata": {},
   "source": [
    "# Dimensions in Arrays\n",
    "\n",
    "A dimension in arrays is one level of array depth (nested arrays).\n",
    "\n",
    "nested array: are arrays that have arrays as their elements."
   ]
  },
  {
   "cell_type": "markdown",
   "id": "ad28fd7a",
   "metadata": {},
   "source": [
    "# 0-D Arrays\n",
    "0-D arrays, or Scalars, are the elements in an array. \n",
    "\n",
    "Each value in an array is a 0-D array."
   ]
  },
  {
   "cell_type": "code",
   "execution_count": 3,
   "id": "89d309c8",
   "metadata": {},
   "outputs": [
    {
     "name": "stdout",
     "output_type": "stream",
     "text": [
      "42\n"
     ]
    }
   ],
   "source": [
    "#Create a 0-D array with value 42\n",
    "\n",
    "import numpy as np\n",
    "\n",
    "arr = np.array(42)\n",
    "\n",
    "print(arr)\n"
   ]
  },
  {
   "cell_type": "markdown",
   "id": "c61fbc02",
   "metadata": {},
   "source": [
    "# 1-D Arrays\n",
    "An array that has 0-D arrays as its elements is called uni-dimensional or 1-D array.\n",
    "\n",
    "These are the most common and basic arrays."
   ]
  },
  {
   "cell_type": "code",
   "execution_count": 4,
   "id": "218b1452",
   "metadata": {},
   "outputs": [
    {
     "name": "stdout",
     "output_type": "stream",
     "text": [
      "[1 2 3 4 5]\n"
     ]
    }
   ],
   "source": [
    "#Create a 1-D array containing the values 1,2,3,4,5:\n",
    "\n",
    "import numpy as np\n",
    "\n",
    "arr = np.array([1, 2, 3, 4, 5])\n",
    "\n",
    "print(arr)"
   ]
  },
  {
   "cell_type": "markdown",
   "id": "9a2ff6f4",
   "metadata": {},
   "source": [
    "# 2-D Arrays\n",
    "An array that has 1-D arrays as its elements is called a 2-D array.\n",
    "\n",
    "These are often used to represent matrix or 2nd order tensors.\n",
    "\n",
    "NumPy has a whole sub module dedicated towards matrix operations called numpy.mat"
   ]
  },
  {
   "cell_type": "code",
   "execution_count": 5,
   "id": "330dc6f8",
   "metadata": {},
   "outputs": [
    {
     "name": "stdout",
     "output_type": "stream",
     "text": [
      "[[1 2 3]\n",
      " [4 5 6]]\n"
     ]
    }
   ],
   "source": [
    "#Create a 2-D array containing two arrays with the values 1,2,3 and 4,5,6:\n",
    "\n",
    "import numpy as np\n",
    "\n",
    "arr = np.array([[1, 2, 3], [4, 5, 6]])\n",
    "\n",
    "print(arr)"
   ]
  },
  {
   "cell_type": "markdown",
   "id": "e1b714fa",
   "metadata": {},
   "source": [
    "# 3-D arrays\n",
    "An array that has 2-D arrays (matrices) as its elements is called 3-D array.\n",
    "\n",
    "These are often used to represent a 3rd order tensor."
   ]
  },
  {
   "cell_type": "code",
   "execution_count": 6,
   "id": "680a632c",
   "metadata": {},
   "outputs": [
    {
     "name": "stdout",
     "output_type": "stream",
     "text": [
      "[[[1 2 3]\n",
      "  [4 5 6]]\n",
      "\n",
      " [[1 2 3]\n",
      "  [4 5 6]]]\n"
     ]
    }
   ],
   "source": [
    "#Create a 3-D array with two 2-D arrays, both containing two arrays with the values 1,2,3 and 4,5,6:\n",
    "\n",
    "import numpy as np\n",
    "\n",
    "arr = np.array([[[1, 2, 3], [4, 5, 6]], [[1, 2, 3], [4, 5, 6]]])\n",
    "\n",
    "print(arr)"
   ]
  },
  {
   "cell_type": "markdown",
   "id": "146b6280",
   "metadata": {},
   "source": [
    "# Check Number of Dimensions?\n",
    "NumPy Arrays provides the ndim attribute that returns an integer that tells us how many dimensions the array have."
   ]
  },
  {
   "cell_type": "code",
   "execution_count": 7,
   "id": "3d861577",
   "metadata": {},
   "outputs": [
    {
     "name": "stdout",
     "output_type": "stream",
     "text": [
      "0\n",
      "1\n",
      "2\n",
      "3\n"
     ]
    }
   ],
   "source": [
    "#Check how many dimensions the arrays have:\n",
    "\n",
    "import numpy as np\n",
    "\n",
    "a = np.array(42)\n",
    "b = np.array([1, 2, 3, 4, 5])\n",
    "c = np.array([[1, 2, 3], [4, 5, 6]])\n",
    "d = np.array([[[1, 2, 3], [4, 5, 6]], [[1, 2, 3], [4, 5, 6]]])\n",
    "\n",
    "print(a.ndim)\n",
    "print(b.ndim)\n",
    "print(c.ndim)\n",
    "print(d.ndim)"
   ]
  },
  {
   "cell_type": "markdown",
   "id": "537076b2",
   "metadata": {},
   "source": [
    "# Higher Dimensional Arrays\n",
    "An array can have any number of dimensions.\n",
    "\n",
    "When the array is created, \n",
    "\n",
    "you can define the number of dimensions by using the ndmin argument."
   ]
  },
  {
   "cell_type": "code",
   "execution_count": 8,
   "id": "6112ba3b",
   "metadata": {},
   "outputs": [
    {
     "name": "stdout",
     "output_type": "stream",
     "text": [
      "[[[[[1 2 3 4]]]]]\n",
      "number of dimensions : 5\n"
     ]
    }
   ],
   "source": [
    "#Create an array with 5 dimensions and verify that it has 5 dimensions:\n",
    "\n",
    "import numpy as np\n",
    "\n",
    "arr = np.array([1, 2, 3, 4], ndmin=5)\n",
    "\n",
    "print(arr)\n",
    "print('number of dimensions :', arr.ndim)"
   ]
  },
  {
   "cell_type": "markdown",
   "id": "d9f98ab7",
   "metadata": {},
   "source": [
    "In this array the innermost dimension (5th dim) has 4 elements, \n",
    "\n",
    "the 4th dim has 1 element that is the vector, \n",
    "\n",
    "the 3rd dim has 1 element that is the matrix with the vector, \n",
    "\n",
    "the 2nd dim has 1 element that is 3D array and 1st dim has 1 element that is a 4D array.\n"
   ]
  },
  {
   "cell_type": "code",
   "execution_count": null,
   "id": "4bfd1d66",
   "metadata": {},
   "outputs": [],
   "source": []
  }
 ],
 "metadata": {
  "kernelspec": {
   "display_name": "Python 3 (ipykernel)",
   "language": "python",
   "name": "python3"
  },
  "language_info": {
   "codemirror_mode": {
    "name": "ipython",
    "version": 3
   },
   "file_extension": ".py",
   "mimetype": "text/x-python",
   "name": "python",
   "nbconvert_exporter": "python",
   "pygments_lexer": "ipython3",
   "version": "3.11.4"
  }
 },
 "nbformat": 4,
 "nbformat_minor": 5
}
